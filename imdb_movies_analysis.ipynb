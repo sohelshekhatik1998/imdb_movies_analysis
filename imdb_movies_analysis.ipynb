{
  "nbformat": 4,
  "nbformat_minor": 0,
  "metadata": {
    "colab": {
      "provenance": [],
      "authorship_tag": "ABX9TyPjGJFywyDOVFe3YhJIKDiB",
      "include_colab_link": true
    },
    "kernelspec": {
      "name": "python3",
      "display_name": "Python 3"
    },
    "language_info": {
      "name": "python"
    }
  },
  "cells": [
    {
      "cell_type": "markdown",
      "metadata": {
        "id": "view-in-github",
        "colab_type": "text"
      },
      "source": [
        "<a href=\"https://colab.research.google.com/github/sohelshekhatik1998/imdb_movies_analysis/blob/main/imdb_movies_analysis.ipynb\" target=\"_parent\"><img src=\"https://colab.research.google.com/assets/colab-badge.svg\" alt=\"Open In Colab\"/></a>"
      ]
    },
    {
      "cell_type": "markdown",
      "source": [
        "Task 1: Reading and Inspection\n",
        "Subtask 1.1: Import and read the movie database"
      ],
      "metadata": {
        "id": "CQDB-uBpVGef"
      }
    },
    {
      "cell_type": "code",
      "source": [
        "import numpy as np\n",
        "import pandas as pd"
      ],
      "metadata": {
        "id": "rDwoiZM1UwmG"
      },
      "execution_count": 2,
      "outputs": []
    },
    {
      "cell_type": "code",
      "source": [
        "# Read the movie dataset\n",
        "movies = pd.read_csv(\"/content/Movies (1).csv\")\n",
        "movies.head()"
      ],
      "metadata": {
        "colab": {
          "base_uri": "https://localhost:8080/",
          "height": 325
        },
        "id": "26L6fUaBU1PZ",
        "outputId": "e8a69fa2-270d-4381-ab84-ce02f788a0cf"
      },
      "execution_count": 6,
      "outputs": [
        {
          "output_type": "execute_result",
          "data": {
            "text/plain": [
              "   color      director_name  num_critic_for_reviews  duration  \\\n",
              "0  Color      James Cameron                   723.0     178.0   \n",
              "1  Color     Gore Verbinski                   302.0     169.0   \n",
              "2  Color         Sam Mendes                   602.0     148.0   \n",
              "3  Color  Christopher Nolan                   813.0     164.0   \n",
              "4  Color     Andrew Stanton                   462.0     132.0   \n",
              "\n",
              "   director_facebook_likes  actor_3_facebook_likes      actor_2_name  \\\n",
              "0                      0.0                   855.0  Joel David Moore   \n",
              "1                    563.0                  1000.0     Orlando Bloom   \n",
              "2                      0.0                   161.0      Rory Kinnear   \n",
              "3                  22000.0                 23000.0    Christian Bale   \n",
              "4                    475.0                   530.0   Samantha Morton   \n",
              "\n",
              "   actor_1_facebook_likes        gross                           genres  ...  \\\n",
              "0                  1000.0  760505847.0  Action|Adventure|Fantasy|Sci-Fi  ...   \n",
              "1                 40000.0  309404152.0         Action|Adventure|Fantasy  ...   \n",
              "2                 11000.0  200074175.0        Action|Adventure|Thriller  ...   \n",
              "3                 27000.0  448130642.0                  Action|Thriller  ...   \n",
              "4                   640.0   73058679.0          Action|Adventure|Sci-Fi  ...   \n",
              "\n",
              "  num_user_for_reviews language  country  content_rating       budget  \\\n",
              "0               3054.0  English      USA           PG-13  237000000.0   \n",
              "1               1238.0  English      USA           PG-13  300000000.0   \n",
              "2                994.0  English       UK           PG-13  245000000.0   \n",
              "3               2701.0  English      USA           PG-13  250000000.0   \n",
              "4                738.0  English      USA           PG-13  263700000.0   \n",
              "\n",
              "   title_year actor_2_facebook_likes imdb_score  aspect_ratio  \\\n",
              "0      2009.0                  936.0        7.9          1.78   \n",
              "1      2007.0                 5000.0        7.1          2.35   \n",
              "2      2015.0                  393.0        6.8          2.35   \n",
              "3      2012.0                23000.0        8.5          2.35   \n",
              "4      2012.0                  632.0        6.6          2.35   \n",
              "\n",
              "  movie_facebook_likes  \n",
              "0                33000  \n",
              "1                    0  \n",
              "2                85000  \n",
              "3               164000  \n",
              "4                24000  \n",
              "\n",
              "[5 rows x 28 columns]"
            ],
            "text/html": [
              "\n",
              "  <div id=\"df-cde636e4-23bd-45cb-b598-dabaf1c75972\" class=\"colab-df-container\">\n",
              "    <div>\n",
              "<style scoped>\n",
              "    .dataframe tbody tr th:only-of-type {\n",
              "        vertical-align: middle;\n",
              "    }\n",
              "\n",
              "    .dataframe tbody tr th {\n",
              "        vertical-align: top;\n",
              "    }\n",
              "\n",
              "    .dataframe thead th {\n",
              "        text-align: right;\n",
              "    }\n",
              "</style>\n",
              "<table border=\"1\" class=\"dataframe\">\n",
              "  <thead>\n",
              "    <tr style=\"text-align: right;\">\n",
              "      <th></th>\n",
              "      <th>color</th>\n",
              "      <th>director_name</th>\n",
              "      <th>num_critic_for_reviews</th>\n",
              "      <th>duration</th>\n",
              "      <th>director_facebook_likes</th>\n",
              "      <th>actor_3_facebook_likes</th>\n",
              "      <th>actor_2_name</th>\n",
              "      <th>actor_1_facebook_likes</th>\n",
              "      <th>gross</th>\n",
              "      <th>genres</th>\n",
              "      <th>...</th>\n",
              "      <th>num_user_for_reviews</th>\n",
              "      <th>language</th>\n",
              "      <th>country</th>\n",
              "      <th>content_rating</th>\n",
              "      <th>budget</th>\n",
              "      <th>title_year</th>\n",
              "      <th>actor_2_facebook_likes</th>\n",
              "      <th>imdb_score</th>\n",
              "      <th>aspect_ratio</th>\n",
              "      <th>movie_facebook_likes</th>\n",
              "    </tr>\n",
              "  </thead>\n",
              "  <tbody>\n",
              "    <tr>\n",
              "      <th>0</th>\n",
              "      <td>Color</td>\n",
              "      <td>James Cameron</td>\n",
              "      <td>723.0</td>\n",
              "      <td>178.0</td>\n",
              "      <td>0.0</td>\n",
              "      <td>855.0</td>\n",
              "      <td>Joel David Moore</td>\n",
              "      <td>1000.0</td>\n",
              "      <td>760505847.0</td>\n",
              "      <td>Action|Adventure|Fantasy|Sci-Fi</td>\n",
              "      <td>...</td>\n",
              "      <td>3054.0</td>\n",
              "      <td>English</td>\n",
              "      <td>USA</td>\n",
              "      <td>PG-13</td>\n",
              "      <td>237000000.0</td>\n",
              "      <td>2009.0</td>\n",
              "      <td>936.0</td>\n",
              "      <td>7.9</td>\n",
              "      <td>1.78</td>\n",
              "      <td>33000</td>\n",
              "    </tr>\n",
              "    <tr>\n",
              "      <th>1</th>\n",
              "      <td>Color</td>\n",
              "      <td>Gore Verbinski</td>\n",
              "      <td>302.0</td>\n",
              "      <td>169.0</td>\n",
              "      <td>563.0</td>\n",
              "      <td>1000.0</td>\n",
              "      <td>Orlando Bloom</td>\n",
              "      <td>40000.0</td>\n",
              "      <td>309404152.0</td>\n",
              "      <td>Action|Adventure|Fantasy</td>\n",
              "      <td>...</td>\n",
              "      <td>1238.0</td>\n",
              "      <td>English</td>\n",
              "      <td>USA</td>\n",
              "      <td>PG-13</td>\n",
              "      <td>300000000.0</td>\n",
              "      <td>2007.0</td>\n",
              "      <td>5000.0</td>\n",
              "      <td>7.1</td>\n",
              "      <td>2.35</td>\n",
              "      <td>0</td>\n",
              "    </tr>\n",
              "    <tr>\n",
              "      <th>2</th>\n",
              "      <td>Color</td>\n",
              "      <td>Sam Mendes</td>\n",
              "      <td>602.0</td>\n",
              "      <td>148.0</td>\n",
              "      <td>0.0</td>\n",
              "      <td>161.0</td>\n",
              "      <td>Rory Kinnear</td>\n",
              "      <td>11000.0</td>\n",
              "      <td>200074175.0</td>\n",
              "      <td>Action|Adventure|Thriller</td>\n",
              "      <td>...</td>\n",
              "      <td>994.0</td>\n",
              "      <td>English</td>\n",
              "      <td>UK</td>\n",
              "      <td>PG-13</td>\n",
              "      <td>245000000.0</td>\n",
              "      <td>2015.0</td>\n",
              "      <td>393.0</td>\n",
              "      <td>6.8</td>\n",
              "      <td>2.35</td>\n",
              "      <td>85000</td>\n",
              "    </tr>\n",
              "    <tr>\n",
              "      <th>3</th>\n",
              "      <td>Color</td>\n",
              "      <td>Christopher Nolan</td>\n",
              "      <td>813.0</td>\n",
              "      <td>164.0</td>\n",
              "      <td>22000.0</td>\n",
              "      <td>23000.0</td>\n",
              "      <td>Christian Bale</td>\n",
              "      <td>27000.0</td>\n",
              "      <td>448130642.0</td>\n",
              "      <td>Action|Thriller</td>\n",
              "      <td>...</td>\n",
              "      <td>2701.0</td>\n",
              "      <td>English</td>\n",
              "      <td>USA</td>\n",
              "      <td>PG-13</td>\n",
              "      <td>250000000.0</td>\n",
              "      <td>2012.0</td>\n",
              "      <td>23000.0</td>\n",
              "      <td>8.5</td>\n",
              "      <td>2.35</td>\n",
              "      <td>164000</td>\n",
              "    </tr>\n",
              "    <tr>\n",
              "      <th>4</th>\n",
              "      <td>Color</td>\n",
              "      <td>Andrew Stanton</td>\n",
              "      <td>462.0</td>\n",
              "      <td>132.0</td>\n",
              "      <td>475.0</td>\n",
              "      <td>530.0</td>\n",
              "      <td>Samantha Morton</td>\n",
              "      <td>640.0</td>\n",
              "      <td>73058679.0</td>\n",
              "      <td>Action|Adventure|Sci-Fi</td>\n",
              "      <td>...</td>\n",
              "      <td>738.0</td>\n",
              "      <td>English</td>\n",
              "      <td>USA</td>\n",
              "      <td>PG-13</td>\n",
              "      <td>263700000.0</td>\n",
              "      <td>2012.0</td>\n",
              "      <td>632.0</td>\n",
              "      <td>6.6</td>\n",
              "      <td>2.35</td>\n",
              "      <td>24000</td>\n",
              "    </tr>\n",
              "  </tbody>\n",
              "</table>\n",
              "<p>5 rows × 28 columns</p>\n",
              "</div>\n",
              "    <div class=\"colab-df-buttons\">\n",
              "\n",
              "  <div class=\"colab-df-container\">\n",
              "    <button class=\"colab-df-convert\" onclick=\"convertToInteractive('df-cde636e4-23bd-45cb-b598-dabaf1c75972')\"\n",
              "            title=\"Convert this dataframe to an interactive table.\"\n",
              "            style=\"display:none;\">\n",
              "\n",
              "  <svg xmlns=\"http://www.w3.org/2000/svg\" height=\"24px\" viewBox=\"0 -960 960 960\">\n",
              "    <path d=\"M120-120v-720h720v720H120Zm60-500h600v-160H180v160Zm220 220h160v-160H400v160Zm0 220h160v-160H400v160ZM180-400h160v-160H180v160Zm440 0h160v-160H620v160ZM180-180h160v-160H180v160Zm440 0h160v-160H620v160Z\"/>\n",
              "  </svg>\n",
              "    </button>\n",
              "\n",
              "  <style>\n",
              "    .colab-df-container {\n",
              "      display:flex;\n",
              "      gap: 12px;\n",
              "    }\n",
              "\n",
              "    .colab-df-convert {\n",
              "      background-color: #E8F0FE;\n",
              "      border: none;\n",
              "      border-radius: 50%;\n",
              "      cursor: pointer;\n",
              "      display: none;\n",
              "      fill: #1967D2;\n",
              "      height: 32px;\n",
              "      padding: 0 0 0 0;\n",
              "      width: 32px;\n",
              "    }\n",
              "\n",
              "    .colab-df-convert:hover {\n",
              "      background-color: #E2EBFA;\n",
              "      box-shadow: 0px 1px 2px rgba(60, 64, 67, 0.3), 0px 1px 3px 1px rgba(60, 64, 67, 0.15);\n",
              "      fill: #174EA6;\n",
              "    }\n",
              "\n",
              "    .colab-df-buttons div {\n",
              "      margin-bottom: 4px;\n",
              "    }\n",
              "\n",
              "    [theme=dark] .colab-df-convert {\n",
              "      background-color: #3B4455;\n",
              "      fill: #D2E3FC;\n",
              "    }\n",
              "\n",
              "    [theme=dark] .colab-df-convert:hover {\n",
              "      background-color: #434B5C;\n",
              "      box-shadow: 0px 1px 3px 1px rgba(0, 0, 0, 0.15);\n",
              "      filter: drop-shadow(0px 1px 2px rgba(0, 0, 0, 0.3));\n",
              "      fill: #FFFFFF;\n",
              "    }\n",
              "  </style>\n",
              "\n",
              "    <script>\n",
              "      const buttonEl =\n",
              "        document.querySelector('#df-cde636e4-23bd-45cb-b598-dabaf1c75972 button.colab-df-convert');\n",
              "      buttonEl.style.display =\n",
              "        google.colab.kernel.accessAllowed ? 'block' : 'none';\n",
              "\n",
              "      async function convertToInteractive(key) {\n",
              "        const element = document.querySelector('#df-cde636e4-23bd-45cb-b598-dabaf1c75972');\n",
              "        const dataTable =\n",
              "          await google.colab.kernel.invokeFunction('convertToInteractive',\n",
              "                                                    [key], {});\n",
              "        if (!dataTable) return;\n",
              "\n",
              "        const docLinkHtml = 'Like what you see? Visit the ' +\n",
              "          '<a target=\"_blank\" href=https://colab.research.google.com/notebooks/data_table.ipynb>data table notebook</a>'\n",
              "          + ' to learn more about interactive tables.';\n",
              "        element.innerHTML = '';\n",
              "        dataTable['output_type'] = 'display_data';\n",
              "        await google.colab.output.renderOutput(dataTable, element);\n",
              "        const docLink = document.createElement('div');\n",
              "        docLink.innerHTML = docLinkHtml;\n",
              "        element.appendChild(docLink);\n",
              "      }\n",
              "    </script>\n",
              "  </div>\n",
              "\n",
              "\n",
              "<div id=\"df-f2f2f2e1-5ab3-4051-8675-4be951b400fa\">\n",
              "  <button class=\"colab-df-quickchart\" onclick=\"quickchart('df-f2f2f2e1-5ab3-4051-8675-4be951b400fa')\"\n",
              "            title=\"Suggest charts\"\n",
              "            style=\"display:none;\">\n",
              "\n",
              "<svg xmlns=\"http://www.w3.org/2000/svg\" height=\"24px\"viewBox=\"0 0 24 24\"\n",
              "     width=\"24px\">\n",
              "    <g>\n",
              "        <path d=\"M19 3H5c-1.1 0-2 .9-2 2v14c0 1.1.9 2 2 2h14c1.1 0 2-.9 2-2V5c0-1.1-.9-2-2-2zM9 17H7v-7h2v7zm4 0h-2V7h2v10zm4 0h-2v-4h2v4z\"/>\n",
              "    </g>\n",
              "</svg>\n",
              "  </button>\n",
              "\n",
              "<style>\n",
              "  .colab-df-quickchart {\n",
              "      --bg-color: #E8F0FE;\n",
              "      --fill-color: #1967D2;\n",
              "      --hover-bg-color: #E2EBFA;\n",
              "      --hover-fill-color: #174EA6;\n",
              "      --disabled-fill-color: #AAA;\n",
              "      --disabled-bg-color: #DDD;\n",
              "  }\n",
              "\n",
              "  [theme=dark] .colab-df-quickchart {\n",
              "      --bg-color: #3B4455;\n",
              "      --fill-color: #D2E3FC;\n",
              "      --hover-bg-color: #434B5C;\n",
              "      --hover-fill-color: #FFFFFF;\n",
              "      --disabled-bg-color: #3B4455;\n",
              "      --disabled-fill-color: #666;\n",
              "  }\n",
              "\n",
              "  .colab-df-quickchart {\n",
              "    background-color: var(--bg-color);\n",
              "    border: none;\n",
              "    border-radius: 50%;\n",
              "    cursor: pointer;\n",
              "    display: none;\n",
              "    fill: var(--fill-color);\n",
              "    height: 32px;\n",
              "    padding: 0;\n",
              "    width: 32px;\n",
              "  }\n",
              "\n",
              "  .colab-df-quickchart:hover {\n",
              "    background-color: var(--hover-bg-color);\n",
              "    box-shadow: 0 1px 2px rgba(60, 64, 67, 0.3), 0 1px 3px 1px rgba(60, 64, 67, 0.15);\n",
              "    fill: var(--button-hover-fill-color);\n",
              "  }\n",
              "\n",
              "  .colab-df-quickchart-complete:disabled,\n",
              "  .colab-df-quickchart-complete:disabled:hover {\n",
              "    background-color: var(--disabled-bg-color);\n",
              "    fill: var(--disabled-fill-color);\n",
              "    box-shadow: none;\n",
              "  }\n",
              "\n",
              "  .colab-df-spinner {\n",
              "    border: 2px solid var(--fill-color);\n",
              "    border-color: transparent;\n",
              "    border-bottom-color: var(--fill-color);\n",
              "    animation:\n",
              "      spin 1s steps(1) infinite;\n",
              "  }\n",
              "\n",
              "  @keyframes spin {\n",
              "    0% {\n",
              "      border-color: transparent;\n",
              "      border-bottom-color: var(--fill-color);\n",
              "      border-left-color: var(--fill-color);\n",
              "    }\n",
              "    20% {\n",
              "      border-color: transparent;\n",
              "      border-left-color: var(--fill-color);\n",
              "      border-top-color: var(--fill-color);\n",
              "    }\n",
              "    30% {\n",
              "      border-color: transparent;\n",
              "      border-left-color: var(--fill-color);\n",
              "      border-top-color: var(--fill-color);\n",
              "      border-right-color: var(--fill-color);\n",
              "    }\n",
              "    40% {\n",
              "      border-color: transparent;\n",
              "      border-right-color: var(--fill-color);\n",
              "      border-top-color: var(--fill-color);\n",
              "    }\n",
              "    60% {\n",
              "      border-color: transparent;\n",
              "      border-right-color: var(--fill-color);\n",
              "    }\n",
              "    80% {\n",
              "      border-color: transparent;\n",
              "      border-right-color: var(--fill-color);\n",
              "      border-bottom-color: var(--fill-color);\n",
              "    }\n",
              "    90% {\n",
              "      border-color: transparent;\n",
              "      border-bottom-color: var(--fill-color);\n",
              "    }\n",
              "  }\n",
              "</style>\n",
              "\n",
              "  <script>\n",
              "    async function quickchart(key) {\n",
              "      const quickchartButtonEl =\n",
              "        document.querySelector('#' + key + ' button');\n",
              "      quickchartButtonEl.disabled = true;  // To prevent multiple clicks.\n",
              "      quickchartButtonEl.classList.add('colab-df-spinner');\n",
              "      try {\n",
              "        const charts = await google.colab.kernel.invokeFunction(\n",
              "            'suggestCharts', [key], {});\n",
              "      } catch (error) {\n",
              "        console.error('Error during call to suggestCharts:', error);\n",
              "      }\n",
              "      quickchartButtonEl.classList.remove('colab-df-spinner');\n",
              "      quickchartButtonEl.classList.add('colab-df-quickchart-complete');\n",
              "    }\n",
              "    (() => {\n",
              "      let quickchartButtonEl =\n",
              "        document.querySelector('#df-f2f2f2e1-5ab3-4051-8675-4be951b400fa button');\n",
              "      quickchartButtonEl.style.display =\n",
              "        google.colab.kernel.accessAllowed ? 'block' : 'none';\n",
              "    })();\n",
              "  </script>\n",
              "</div>\n",
              "\n",
              "    </div>\n",
              "  </div>\n"
            ]
          },
          "metadata": {},
          "execution_count": 6
        }
      ]
    },
    {
      "cell_type": "markdown",
      "source": [
        "Subtask 1.2: Inspect the dataframe\n",
        "\n",
        "We inspect the dataset to understand its structure and contents.\n",
        "\n",
        "pythonCopy code"
      ],
      "metadata": {
        "id": "Fjs4UzViVcC-"
      }
    },
    {
      "cell_type": "code",
      "source": [
        "# Check the number of rows and columns\n",
        "print(\"Number of rows and columns:\", movies.shape)"
      ],
      "metadata": {
        "colab": {
          "base_uri": "https://localhost:8080/"
        },
        "id": "Pt46zSH4VJlO",
        "outputId": "bf128da5-7cf5-4821-ca7b-fed6d3807e49"
      },
      "execution_count": 7,
      "outputs": [
        {
          "output_type": "stream",
          "name": "stdout",
          "text": [
            "Number of rows and columns: (3853, 28)\n"
          ]
        }
      ]
    },
    {
      "cell_type": "code",
      "source": [
        "# Check columns with null values\n",
        "print(\"Columns with null values:\", (movies.isnull().sum() > 0).sum())"
      ],
      "metadata": {
        "colab": {
          "base_uri": "https://localhost:8080/"
        },
        "id": "Xuu2FS0QVh6x",
        "outputId": "de942804-37e8-496d-9aa8-3697b73ab31c"
      },
      "execution_count": 8,
      "outputs": [
        {
          "output_type": "stream",
          "name": "stdout",
          "text": [
            "Columns with null values: 12\n"
          ]
        }
      ]
    },
    {
      "cell_type": "markdown",
      "source": [
        "Task 2: Cleaning the Data\n",
        "We drop columns that are not required for our analysis."
      ],
      "metadata": {
        "id": "g_CA_K9tVqPd"
      }
    },
    {
      "cell_type": "code",
      "source": [
        "columns_to_drop = [\n",
        "    'color', 'director_facebook_likes', 'actor_1_facebook_likes',\n",
        "    'actor_2_facebook_likes', 'actor_3_facebook_likes', 'actor_2_name',\n",
        "    'cast_total_facebook_likes', 'actor_3_name', 'duration',\n",
        "    'facenumber_in_poster', 'content_rating', 'country',\n",
        "    'movie_imdb_link', 'aspect_ratio', 'plot_keywords'\n",
        "]"
      ],
      "metadata": {
        "id": "0ylgRiv5VlIL"
      },
      "execution_count": 9,
      "outputs": []
    },
    {
      "cell_type": "code",
      "source": [
        "movies.drop(columns=columns_to_drop, inplace=True)"
      ],
      "metadata": {
        "id": "EJyYktRuVxDd"
      },
      "execution_count": 10,
      "outputs": []
    },
    {
      "cell_type": "markdown",
      "source": [
        "Answers to Questions: 3. After dropping unnecessary columns, the dataframe contains 10 columns.\n",
        "\n",
        "Subtask 2.2: Inspect Null values\n",
        "\n",
        "We find the percentage of null values in each column."
      ],
      "metadata": {
        "id": "9-uZ-_baV7i2"
      }
    },
    {
      "cell_type": "code",
      "source": [
        "null_percentage = (movies.isnull().sum() / len(movies)) * 100"
      ],
      "metadata": {
        "id": "YxmoUN_OV3vY"
      },
      "execution_count": 11,
      "outputs": []
    },
    {
      "cell_type": "markdown",
      "source": [
        "Answers to Questions: 4. The column with the highest percentage of null values is “language”.\n",
        "\n",
        "Subtask 2.3: Fill NaN values\n",
        "\n",
        "We fill NaN values in the “language” column with “English”."
      ],
      "metadata": {
        "id": "MFKLANLhWC1o"
      }
    },
    {
      "cell_type": "code",
      "source": [
        "movies.language.fillna(\"English\", inplace=True)"
      ],
      "metadata": {
        "id": "qhZFO1SHV-2A"
      },
      "execution_count": 12,
      "outputs": []
    },
    {
      "cell_type": "markdown",
      "source": [
        "Answers to Questions: 5. After filling NaN values, there are 3670 movies made in the English language.\n",
        "\n",
        "Task 3: Data Analysis\n",
        "Subtask 3.1: Change the unit of columns\n",
        "\n",
        "We convert the unit of the “budget” and “gross” columns from dollars to million dollars."
      ],
      "metadata": {
        "id": "cdouer1OWKj1"
      }
    },
    {
      "cell_type": "code",
      "source": [
        "movies.gross = movies.gross / 1000000\n",
        "movies.budget = movies.budget / 1000000"
      ],
      "metadata": {
        "id": "QQe_dX8-WGlB"
      },
      "execution_count": 13,
      "outputs": []
    },
    {
      "cell_type": "markdown",
      "source": [
        "Subtask 3.2: Find the movies with the highest profit\n",
        "\n",
        "We calculate the “profit” for each movie and find the top ten profiting movies."
      ],
      "metadata": {
        "id": "iGc16UezWREf"
      }
    },
    {
      "cell_type": "code",
      "source": [
        "movies[\"Profit\"] = movies.gross - movies.budget\n",
        "top10 = movies.sort_values(\"Profit\", ascending=False).head(10)"
      ],
      "metadata": {
        "id": "pKYFwRs4WOev"
      },
      "execution_count": 14,
      "outputs": []
    },
    {
      "cell_type": "markdown",
      "source": [
        "Answers to Questions: 6. The movie ranked 5th from the top in the list is “The Avengers”.\n",
        "\n",
        "Subtask 3.3: Find IMDb Top 250\n",
        "\n",
        "We create a dataframe IMDb_Top_250 containing the top 250 movies with the highest IMDb rating and where num_voted_users is greater than 25,000."
      ],
      "metadata": {
        "id": "t9eBLYsNWXP9"
      }
    },
    {
      "cell_type": "code",
      "source": [
        "IMDb_Top_250 = movies[(movies['imdb_score'] > 8.0) & (movies['num_voted_users'] > 25000)]\n",
        "IMDb_Top_250 = IMDb_Top_250.sort_values(by='imdb_score', ascending=False).head(250)\n",
        "IMDb_Top_250['Rank'] = range(1, IMDb_Top_250.shape[0] + 1)"
      ],
      "metadata": {
        "id": "pfLGRCX5WUua"
      },
      "execution_count": 15,
      "outputs": []
    },
    {
      "cell_type": "markdown",
      "source": [
        "Answers to Questions: 7. The bucket holding the maximum number of movies from IMDb_Top_250 is \"8 to 8.5\".\n",
        "\n",
        "Subtask 3.4: Find the critic-favorite and audience-favorite actors\n",
        "\n",
        "We create dataframes for three actors, namely, Meryl_Streep, Leo_Caprio, and Brad_Pitt, containing movies where they are the lead actors. Then, we combine these dataframes, group by actor, and find the mean of critic and user reviews."
      ],
      "metadata": {
        "id": "lNZTv8MCWeRZ"
      }
    },
    {
      "cell_type": "code",
      "source": [
        "Meryl_Streep = movies[movies[\"actor_1_name\"] == \"Meryl Streep\"]\n",
        "Leo_Caprio = movies[movies[\"actor_1_name\"] == \"Leonardo DiCaprio\"]\n",
        "Brad_Pitt = movies[movies[\"actor_1_name\"] == \"Brad Pitt\"]\n",
        "Combined = pd.concat([Meryl_Streep, Leo_Caprio, Brad_Pitt], axis=0)\n",
        "actor_reviews = Combined.groupby(by=\"actor_1_name\")[[\"num_critic_for_reviews\", \"num_user_for_reviews\"]].mean()"
      ],
      "metadata": {
        "id": "20zUAhcdWbl_"
      },
      "execution_count": 16,
      "outputs": []
    },
    {
      "cell_type": "markdown",
      "source": [
        "Answers to Questions: 8 and 9\n",
        "\n",
        "According to user reviews, “Leonardo DiCaprio” is the highest-rated among the three actors.\n",
        "According to critic reviews, “Leonardo DiCaprio” is also the highest-rated among the three actors.\n",
        "\n",
        "\n",
        "\n",
        "\n",
        "\n",
        "Conclusion\n",
        "In this analysis, we explored a movie dataset, cleaned the data, and conducted various analyses to find interesting insights about movies, actors, and ratings. We discovered the highest-grossing movies, IMDb’s top 250 movies, and the favorite actors among critics and audiences. This analysis provides valuable information for movie enthusiasts and industry professionals.\n",
        "\n",
        "1\n",
        "\n",
        "\n",
        "\n"
      ],
      "metadata": {
        "id": "U3wKVeBZW3YA"
      }
    },
    {
      "cell_type": "code",
      "source": [],
      "metadata": {
        "id": "nD78DJuSW99f"
      },
      "execution_count": null,
      "outputs": []
    }
  ]
}